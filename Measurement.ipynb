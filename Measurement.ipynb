{
  "nbformat": 4,
  "nbformat_minor": 0,
  "metadata": {
    "colab": {
      "name": "Measurement.ipynb",
      "provenance": [],
      "collapsed_sections": [],
      "include_colab_link": true
    },
    "kernelspec": {
      "name": "python3",
      "display_name": "Python 3"
    },
    "language_info": {
      "name": "python"
    }
  },
  "cells": [
    {
      "cell_type": "markdown",
      "metadata": {
        "id": "view-in-github",
        "colab_type": "text"
      },
      "source": [
        "<a href=\"https://colab.research.google.com/github/sareenv/SOEN-6611-Project/blob/main/Measurement.ipynb\" target=\"_parent\"><img src=\"https://colab.research.google.com/assets/colab-badge.svg\" alt=\"Open In Colab\"/></a>"
      ]
    },
    {
      "cell_type": "markdown",
      "source": [
        "Required Libraries"
      ],
      "metadata": {
        "id": "nv9crfQK4ZAT"
      }
    },
    {
      "cell_type": "code",
      "source": [
        "import os \n",
        "import numpy as np\n",
        "import pandas as pd\n",
        "import matplotlib.pyplot as plt\n",
        "import seaborn as sns\n",
        "import requests\n",
        "from IPython.display import display # to dispay the contents of the data frames."
      ],
      "metadata": {
        "id": "8BP3wdQW4Bra"
      },
      "execution_count": 28,
      "outputs": []
    },
    {
      "cell_type": "markdown",
      "source": [
        "Change the Path"
      ],
      "metadata": {
        "id": "lvqpgZ3j4ecG"
      }
    },
    {
      "cell_type": "code",
      "source": [
        "from google.colab import drive\n",
        "drive.mount('/content/drive')\n",
        "os.chdir(\"/content/drive/MyDrive/MEASUREMENT-PROJECT/DATA\")"
      ],
      "metadata": {
        "id": "Xj13EnSj_Xrv",
        "colab": {
          "base_uri": "https://localhost:8080/"
        },
        "outputId": "6646efee-0fba-4ff1-d83e-4409253c2019"
      },
      "execution_count": 29,
      "outputs": [
        {
          "output_type": "stream",
          "name": "stdout",
          "text": [
            "Drive already mounted at /content/drive; to attempt to forcibly remount, call drive.mount(\"/content/drive\", force_remount=True).\n"
          ]
        }
      ]
    },
    {
      "cell_type": "code",
      "source": [
        "df_restuarant = pd.read_csv('michelin_my_maps.csv')"
      ],
      "metadata": {
        "id": "MXCz9z6zWkO3"
      },
      "execution_count": 30,
      "outputs": []
    },
    {
      "cell_type": "code",
      "source": [
        "original_size = df_restuarant.shape[0]\n",
        "print(\"The original value of the dataset is {}\".format(original_size))"
      ],
      "metadata": {
        "colab": {
          "base_uri": "https://localhost:8080/"
        },
        "id": "2334byHiXNAx",
        "outputId": "a459fd31-6f10-4c0c-a485-fca245fe9e99"
      },
      "execution_count": 31,
      "outputs": [
        {
          "output_type": "stream",
          "name": "stdout",
          "text": [
            "The original value of the dataset is 6522\n"
          ]
        }
      ]
    },
    {
      "cell_type": "code",
      "source": [
        "df_modified = df_restuarant.drop([\"PhoneNumber\"], axis=1)\n",
        "df_modified = df_modified.drop([\"Url\"], axis=1)\n",
        "df_modified = df_modified.drop([\"WebsiteUrl\"], axis=1)"
      ],
      "metadata": {
        "id": "JzrBxRdbcb6t"
      },
      "execution_count": 32,
      "outputs": []
    },
    {
      "cell_type": "code",
      "source": [
        "df_modified[\"Cuisine\"] = df_modified[\"Cuisine\"].str.split(',')\n",
        "df_modified = df_modified.apply(pd.Series.explode)"
      ],
      "metadata": {
        "id": "4fEaTJoe-wJQ"
      },
      "execution_count": 33,
      "outputs": []
    },
    {
      "cell_type": "code",
      "source": [
        "display(df_modified.head())"
      ],
      "metadata": {
        "colab": {
          "base_uri": "https://localhost:8080/",
          "height": 206
        },
        "id": "W2eufMkGdDvG",
        "outputId": "39b59875-36da-42ed-b974-6bcb32ba7418"
      },
      "execution_count": 34,
      "outputs": [
        {
          "output_type": "display_data",
          "data": {
            "text/plain": [
              "            Name                                          Address  \\\n",
              "0  Inter Scaldes      Zandweg 2, Kruiningen, 4416 NA, Netherlands   \n",
              "1     De Librije    Spinhuisplein 1, Zwolle, 8011 ZZ, Netherlands   \n",
              "2  Hof van Cleve     Riemegemstraat 1, Kruishoutem, 9770, Belgium   \n",
              "3          Boury  Rumbeeksesteenweg 300, Roeselare, 8800, Belgium   \n",
              "4          Zilte    Hanzestedenplaats 5, Antwerpen, 2000, Belgium   \n",
              "\n",
              "      Location MinPrice MaxPrice Currency          Cuisine  Longitude  \\\n",
              "0   Kruiningen      165      380      EUR   Modern Cuisine   4.024108   \n",
              "1       Zwolle      232      232      EUR   Modern Cuisine   6.098018   \n",
              "2  Kruishoutem      295      410      EUR         Creative   3.509865   \n",
              "3    Roeselare      100      160      EUR  Creative French   3.140398   \n",
              "4    Antwerpen      169      330      EUR         Creative   4.404754   \n",
              "\n",
              "    Latitude             Award  \n",
              "0  51.457161  3 MICHELIN Stars  \n",
              "1  52.515364  3 MICHELIN Stars  \n",
              "2  50.903950  3 MICHELIN Stars  \n",
              "3  50.937447  3 MICHELIN Stars  \n",
              "4  51.228828  3 MICHELIN Stars  "
            ],
            "text/html": [
              "\n",
              "  <div id=\"df-082e4d21-ee75-446a-88b4-fb1a6de68df3\">\n",
              "    <div class=\"colab-df-container\">\n",
              "      <div>\n",
              "<style scoped>\n",
              "    .dataframe tbody tr th:only-of-type {\n",
              "        vertical-align: middle;\n",
              "    }\n",
              "\n",
              "    .dataframe tbody tr th {\n",
              "        vertical-align: top;\n",
              "    }\n",
              "\n",
              "    .dataframe thead th {\n",
              "        text-align: right;\n",
              "    }\n",
              "</style>\n",
              "<table border=\"1\" class=\"dataframe\">\n",
              "  <thead>\n",
              "    <tr style=\"text-align: right;\">\n",
              "      <th></th>\n",
              "      <th>Name</th>\n",
              "      <th>Address</th>\n",
              "      <th>Location</th>\n",
              "      <th>MinPrice</th>\n",
              "      <th>MaxPrice</th>\n",
              "      <th>Currency</th>\n",
              "      <th>Cuisine</th>\n",
              "      <th>Longitude</th>\n",
              "      <th>Latitude</th>\n",
              "      <th>Award</th>\n",
              "    </tr>\n",
              "  </thead>\n",
              "  <tbody>\n",
              "    <tr>\n",
              "      <th>0</th>\n",
              "      <td>Inter Scaldes</td>\n",
              "      <td>Zandweg 2, Kruiningen, 4416 NA, Netherlands</td>\n",
              "      <td>Kruiningen</td>\n",
              "      <td>165</td>\n",
              "      <td>380</td>\n",
              "      <td>EUR</td>\n",
              "      <td>Modern Cuisine</td>\n",
              "      <td>4.024108</td>\n",
              "      <td>51.457161</td>\n",
              "      <td>3 MICHELIN Stars</td>\n",
              "    </tr>\n",
              "    <tr>\n",
              "      <th>1</th>\n",
              "      <td>De Librije</td>\n",
              "      <td>Spinhuisplein 1, Zwolle, 8011 ZZ, Netherlands</td>\n",
              "      <td>Zwolle</td>\n",
              "      <td>232</td>\n",
              "      <td>232</td>\n",
              "      <td>EUR</td>\n",
              "      <td>Modern Cuisine</td>\n",
              "      <td>6.098018</td>\n",
              "      <td>52.515364</td>\n",
              "      <td>3 MICHELIN Stars</td>\n",
              "    </tr>\n",
              "    <tr>\n",
              "      <th>2</th>\n",
              "      <td>Hof van Cleve</td>\n",
              "      <td>Riemegemstraat 1, Kruishoutem, 9770, Belgium</td>\n",
              "      <td>Kruishoutem</td>\n",
              "      <td>295</td>\n",
              "      <td>410</td>\n",
              "      <td>EUR</td>\n",
              "      <td>Creative</td>\n",
              "      <td>3.509865</td>\n",
              "      <td>50.903950</td>\n",
              "      <td>3 MICHELIN Stars</td>\n",
              "    </tr>\n",
              "    <tr>\n",
              "      <th>3</th>\n",
              "      <td>Boury</td>\n",
              "      <td>Rumbeeksesteenweg 300, Roeselare, 8800, Belgium</td>\n",
              "      <td>Roeselare</td>\n",
              "      <td>100</td>\n",
              "      <td>160</td>\n",
              "      <td>EUR</td>\n",
              "      <td>Creative French</td>\n",
              "      <td>3.140398</td>\n",
              "      <td>50.937447</td>\n",
              "      <td>3 MICHELIN Stars</td>\n",
              "    </tr>\n",
              "    <tr>\n",
              "      <th>4</th>\n",
              "      <td>Zilte</td>\n",
              "      <td>Hanzestedenplaats 5, Antwerpen, 2000, Belgium</td>\n",
              "      <td>Antwerpen</td>\n",
              "      <td>169</td>\n",
              "      <td>330</td>\n",
              "      <td>EUR</td>\n",
              "      <td>Creative</td>\n",
              "      <td>4.404754</td>\n",
              "      <td>51.228828</td>\n",
              "      <td>3 MICHELIN Stars</td>\n",
              "    </tr>\n",
              "  </tbody>\n",
              "</table>\n",
              "</div>\n",
              "      <button class=\"colab-df-convert\" onclick=\"convertToInteractive('df-082e4d21-ee75-446a-88b4-fb1a6de68df3')\"\n",
              "              title=\"Convert this dataframe to an interactive table.\"\n",
              "              style=\"display:none;\">\n",
              "        \n",
              "  <svg xmlns=\"http://www.w3.org/2000/svg\" height=\"24px\"viewBox=\"0 0 24 24\"\n",
              "       width=\"24px\">\n",
              "    <path d=\"M0 0h24v24H0V0z\" fill=\"none\"/>\n",
              "    <path d=\"M18.56 5.44l.94 2.06.94-2.06 2.06-.94-2.06-.94-.94-2.06-.94 2.06-2.06.94zm-11 1L8.5 8.5l.94-2.06 2.06-.94-2.06-.94L8.5 2.5l-.94 2.06-2.06.94zm10 10l.94 2.06.94-2.06 2.06-.94-2.06-.94-.94-2.06-.94 2.06-2.06.94z\"/><path d=\"M17.41 7.96l-1.37-1.37c-.4-.4-.92-.59-1.43-.59-.52 0-1.04.2-1.43.59L10.3 9.45l-7.72 7.72c-.78.78-.78 2.05 0 2.83L4 21.41c.39.39.9.59 1.41.59.51 0 1.02-.2 1.41-.59l7.78-7.78 2.81-2.81c.8-.78.8-2.07 0-2.86zM5.41 20L4 18.59l7.72-7.72 1.47 1.35L5.41 20z\"/>\n",
              "  </svg>\n",
              "      </button>\n",
              "      \n",
              "  <style>\n",
              "    .colab-df-container {\n",
              "      display:flex;\n",
              "      flex-wrap:wrap;\n",
              "      gap: 12px;\n",
              "    }\n",
              "\n",
              "    .colab-df-convert {\n",
              "      background-color: #E8F0FE;\n",
              "      border: none;\n",
              "      border-radius: 50%;\n",
              "      cursor: pointer;\n",
              "      display: none;\n",
              "      fill: #1967D2;\n",
              "      height: 32px;\n",
              "      padding: 0 0 0 0;\n",
              "      width: 32px;\n",
              "    }\n",
              "\n",
              "    .colab-df-convert:hover {\n",
              "      background-color: #E2EBFA;\n",
              "      box-shadow: 0px 1px 2px rgba(60, 64, 67, 0.3), 0px 1px 3px 1px rgba(60, 64, 67, 0.15);\n",
              "      fill: #174EA6;\n",
              "    }\n",
              "\n",
              "    [theme=dark] .colab-df-convert {\n",
              "      background-color: #3B4455;\n",
              "      fill: #D2E3FC;\n",
              "    }\n",
              "\n",
              "    [theme=dark] .colab-df-convert:hover {\n",
              "      background-color: #434B5C;\n",
              "      box-shadow: 0px 1px 3px 1px rgba(0, 0, 0, 0.15);\n",
              "      filter: drop-shadow(0px 1px 2px rgba(0, 0, 0, 0.3));\n",
              "      fill: #FFFFFF;\n",
              "    }\n",
              "  </style>\n",
              "\n",
              "      <script>\n",
              "        const buttonEl =\n",
              "          document.querySelector('#df-082e4d21-ee75-446a-88b4-fb1a6de68df3 button.colab-df-convert');\n",
              "        buttonEl.style.display =\n",
              "          google.colab.kernel.accessAllowed ? 'block' : 'none';\n",
              "\n",
              "        async function convertToInteractive(key) {\n",
              "          const element = document.querySelector('#df-082e4d21-ee75-446a-88b4-fb1a6de68df3');\n",
              "          const dataTable =\n",
              "            await google.colab.kernel.invokeFunction('convertToInteractive',\n",
              "                                                     [key], {});\n",
              "          if (!dataTable) return;\n",
              "\n",
              "          const docLinkHtml = 'Like what you see? Visit the ' +\n",
              "            '<a target=\"_blank\" href=https://colab.research.google.com/notebooks/data_table.ipynb>data table notebook</a>'\n",
              "            + ' to learn more about interactive tables.';\n",
              "          element.innerHTML = '';\n",
              "          dataTable['output_type'] = 'display_data';\n",
              "          await google.colab.output.renderOutput(dataTable, element);\n",
              "          const docLink = document.createElement('div');\n",
              "          docLink.innerHTML = docLinkHtml;\n",
              "          element.appendChild(docLink);\n",
              "        }\n",
              "      </script>\n",
              "    </div>\n",
              "  </div>\n",
              "  "
            ]
          },
          "metadata": {}
        }
      ]
    },
    {
      "cell_type": "code",
      "source": [
        "total_records = df_modified.shape[0]\n",
        "print(\"Total number of records are {}\".format(total_records))"
      ],
      "metadata": {
        "colab": {
          "base_uri": "https://localhost:8080/"
        },
        "id": "7qkN4JWNFCBu",
        "outputId": "a77f6193-3e78-495d-bc80-8b3d85cffab0"
      },
      "execution_count": 35,
      "outputs": [
        {
          "output_type": "stream",
          "name": "stdout",
          "text": [
            "Total number of records are 8278\n"
          ]
        }
      ]
    },
    {
      "cell_type": "code",
      "source": [
        "minPriceMissingCondition = pd.isnull(df_modified[\"MinPrice\"])\n",
        "maxPriceMissingCondition = pd.isnull(df_modified[\"MaxPrice\"])\n",
        "currencyMissingCondition = pd.isnull(df_modified[\"Currency\"])\n",
        "condition = minPriceMissingCondition | maxPriceMissingCondition | currencyMissingCondition\n",
        "missing_records_df = df_modified[condition]\n",
        "print(\"Total records with missing attributes are {} in count \".format(missing_records_df.shape[0]))"
      ],
      "metadata": {
        "colab": {
          "base_uri": "https://localhost:8080/"
        },
        "id": "OjcoCzgKdo3k",
        "outputId": "22d6fa03-0863-4e1b-e541-b767db05f32f"
      },
      "execution_count": 36,
      "outputs": [
        {
          "output_type": "stream",
          "name": "stdout",
          "text": [
            "Total records with missing attributes are 8 in count \n"
          ]
        }
      ]
    },
    {
      "cell_type": "code",
      "source": [
        "minPriceMean = df_modified[condition == False][\"MinPrice\"].apply(lambda x: x.replace(',', '')).apply(lambda x: float(x))\n",
        "maxPriceMean = df_modified[condition == False][\"MaxPrice\"].apply(lambda x: x.replace(',', '')).apply(lambda x: float(x))\n",
        "non_missing = df_modified[condition == False]\n",
        "non_missing_cnt = non_missing.shape[0]\n",
        "total_records = df_modified.shape[0]\n",
        "completeness = non_missing_cnt / total_records\n",
        "print(\"The completeness of the dataset before pre-processing is {}\".format(completeness))"
      ],
      "metadata": {
        "colab": {
          "base_uri": "https://localhost:8080/"
        },
        "id": "JlAVuZsEhrhp",
        "outputId": "e3fc19ea-fa40-44d2-b9cb-6f48f14a9c54"
      },
      "execution_count": 37,
      "outputs": [
        {
          "output_type": "stream",
          "name": "stdout",
          "text": [
            "The completeness of the dataset before pre-processing is 0.9990335829910606\n"
          ]
        }
      ]
    },
    {
      "cell_type": "code",
      "source": [
        "def dataSetSplitter(df_local,dates):\n",
        "  df_local[\"ConversionDate\"]=np.nan\n",
        "  df_local = df_local.sample(frac=1).reset_index(drop=True)\n",
        "  # splitting into multiple df\n",
        "  results = np.array_split(df_local, len(dates)) \n",
        "  for index, result in enumerate(results):\n",
        "    result[\"ConversionDate\"] = pd.to_datetime(dates[index])\n",
        "  return results\n",
        "\n",
        "# date format - day/month/yyyy\n",
        "df_splitted = dataSetSplitter(df_modified,['02/02/2022', \n",
        "                                           '18/04/2022',\n",
        "                                           '10/03/2022', \n",
        "                                           '20/07/2022'\n",
        "                                           ])\n",
        "display(df_splitted[1].head())"
      ],
      "metadata": {
        "colab": {
          "base_uri": "https://localhost:8080/",
          "height": 250
        },
        "id": "2POaa3SrAPMY",
        "outputId": "e6e267fe-72eb-44a1-d50e-65d22fd79299"
      },
      "execution_count": 38,
      "outputs": [
        {
          "output_type": "display_data",
          "data": {
            "text/plain": [
              "                Name                                            Address  \\\n",
              "2070        Jägerhof  Brühlbleichestrasse 11, Sankt Gallen, 9000, Sw...   \n",
              "2071        Quai n°4           quai Saint-Jacques 4, Ath, 7800, Belgium   \n",
              "2072     L.A. Jordan  Ketschauerhofstraße 1, Deidesheim, 67146, Germany   \n",
              "2073           Terme           via Madonna Assunta, Pigna, 18037, Italy   \n",
              "2074  Pensiun Aldier                  Plaz 154, Sent, 7554, Switzerland   \n",
              "\n",
              "          Location MinPrice MaxPrice Currency         Cuisine  Longitude  \\\n",
              "2070  Sankt Gallen       70      170      CHF  Modern Cuisine   9.383395   \n",
              "2071           Ath       38      110      EUR  Modern Cuisine   3.778414   \n",
              "2072    Deidesheim      175      205      EUR        Creative   8.185337   \n",
              "2073         Pigna       35       36      EUR        Ligurian   7.668460   \n",
              "2074          Sent       70       84      CHF           Swiss  10.337619   \n",
              "\n",
              "       Latitude            Award ConversionDate  \n",
              "2070  47.430792  1 MICHELIN Star     2022-04-18  \n",
              "2071  50.631302  1 MICHELIN Star     2022-04-18  \n",
              "2072  49.407885  1 MICHELIN Star     2022-04-18  \n",
              "2073  43.929970     Bib Gourmand     2022-04-18  \n",
              "2074  46.816932     Bib Gourmand     2022-04-18  "
            ],
            "text/html": [
              "\n",
              "  <div id=\"df-a07624ad-bcb8-4fe7-8aef-d79d65fc13ca\">\n",
              "    <div class=\"colab-df-container\">\n",
              "      <div>\n",
              "<style scoped>\n",
              "    .dataframe tbody tr th:only-of-type {\n",
              "        vertical-align: middle;\n",
              "    }\n",
              "\n",
              "    .dataframe tbody tr th {\n",
              "        vertical-align: top;\n",
              "    }\n",
              "\n",
              "    .dataframe thead th {\n",
              "        text-align: right;\n",
              "    }\n",
              "</style>\n",
              "<table border=\"1\" class=\"dataframe\">\n",
              "  <thead>\n",
              "    <tr style=\"text-align: right;\">\n",
              "      <th></th>\n",
              "      <th>Name</th>\n",
              "      <th>Address</th>\n",
              "      <th>Location</th>\n",
              "      <th>MinPrice</th>\n",
              "      <th>MaxPrice</th>\n",
              "      <th>Currency</th>\n",
              "      <th>Cuisine</th>\n",
              "      <th>Longitude</th>\n",
              "      <th>Latitude</th>\n",
              "      <th>Award</th>\n",
              "      <th>ConversionDate</th>\n",
              "    </tr>\n",
              "  </thead>\n",
              "  <tbody>\n",
              "    <tr>\n",
              "      <th>2070</th>\n",
              "      <td>Jägerhof</td>\n",
              "      <td>Brühlbleichestrasse 11, Sankt Gallen, 9000, Sw...</td>\n",
              "      <td>Sankt Gallen</td>\n",
              "      <td>70</td>\n",
              "      <td>170</td>\n",
              "      <td>CHF</td>\n",
              "      <td>Modern Cuisine</td>\n",
              "      <td>9.383395</td>\n",
              "      <td>47.430792</td>\n",
              "      <td>1 MICHELIN Star</td>\n",
              "      <td>2022-04-18</td>\n",
              "    </tr>\n",
              "    <tr>\n",
              "      <th>2071</th>\n",
              "      <td>Quai n°4</td>\n",
              "      <td>quai Saint-Jacques 4, Ath, 7800, Belgium</td>\n",
              "      <td>Ath</td>\n",
              "      <td>38</td>\n",
              "      <td>110</td>\n",
              "      <td>EUR</td>\n",
              "      <td>Modern Cuisine</td>\n",
              "      <td>3.778414</td>\n",
              "      <td>50.631302</td>\n",
              "      <td>1 MICHELIN Star</td>\n",
              "      <td>2022-04-18</td>\n",
              "    </tr>\n",
              "    <tr>\n",
              "      <th>2072</th>\n",
              "      <td>L.A. Jordan</td>\n",
              "      <td>Ketschauerhofstraße 1, Deidesheim, 67146, Germany</td>\n",
              "      <td>Deidesheim</td>\n",
              "      <td>175</td>\n",
              "      <td>205</td>\n",
              "      <td>EUR</td>\n",
              "      <td>Creative</td>\n",
              "      <td>8.185337</td>\n",
              "      <td>49.407885</td>\n",
              "      <td>1 MICHELIN Star</td>\n",
              "      <td>2022-04-18</td>\n",
              "    </tr>\n",
              "    <tr>\n",
              "      <th>2073</th>\n",
              "      <td>Terme</td>\n",
              "      <td>via Madonna Assunta, Pigna, 18037, Italy</td>\n",
              "      <td>Pigna</td>\n",
              "      <td>35</td>\n",
              "      <td>36</td>\n",
              "      <td>EUR</td>\n",
              "      <td>Ligurian</td>\n",
              "      <td>7.668460</td>\n",
              "      <td>43.929970</td>\n",
              "      <td>Bib Gourmand</td>\n",
              "      <td>2022-04-18</td>\n",
              "    </tr>\n",
              "    <tr>\n",
              "      <th>2074</th>\n",
              "      <td>Pensiun Aldier</td>\n",
              "      <td>Plaz 154, Sent, 7554, Switzerland</td>\n",
              "      <td>Sent</td>\n",
              "      <td>70</td>\n",
              "      <td>84</td>\n",
              "      <td>CHF</td>\n",
              "      <td>Swiss</td>\n",
              "      <td>10.337619</td>\n",
              "      <td>46.816932</td>\n",
              "      <td>Bib Gourmand</td>\n",
              "      <td>2022-04-18</td>\n",
              "    </tr>\n",
              "  </tbody>\n",
              "</table>\n",
              "</div>\n",
              "      <button class=\"colab-df-convert\" onclick=\"convertToInteractive('df-a07624ad-bcb8-4fe7-8aef-d79d65fc13ca')\"\n",
              "              title=\"Convert this dataframe to an interactive table.\"\n",
              "              style=\"display:none;\">\n",
              "        \n",
              "  <svg xmlns=\"http://www.w3.org/2000/svg\" height=\"24px\"viewBox=\"0 0 24 24\"\n",
              "       width=\"24px\">\n",
              "    <path d=\"M0 0h24v24H0V0z\" fill=\"none\"/>\n",
              "    <path d=\"M18.56 5.44l.94 2.06.94-2.06 2.06-.94-2.06-.94-.94-2.06-.94 2.06-2.06.94zm-11 1L8.5 8.5l.94-2.06 2.06-.94-2.06-.94L8.5 2.5l-.94 2.06-2.06.94zm10 10l.94 2.06.94-2.06 2.06-.94-2.06-.94-.94-2.06-.94 2.06-2.06.94z\"/><path d=\"M17.41 7.96l-1.37-1.37c-.4-.4-.92-.59-1.43-.59-.52 0-1.04.2-1.43.59L10.3 9.45l-7.72 7.72c-.78.78-.78 2.05 0 2.83L4 21.41c.39.39.9.59 1.41.59.51 0 1.02-.2 1.41-.59l7.78-7.78 2.81-2.81c.8-.78.8-2.07 0-2.86zM5.41 20L4 18.59l7.72-7.72 1.47 1.35L5.41 20z\"/>\n",
              "  </svg>\n",
              "      </button>\n",
              "      \n",
              "  <style>\n",
              "    .colab-df-container {\n",
              "      display:flex;\n",
              "      flex-wrap:wrap;\n",
              "      gap: 12px;\n",
              "    }\n",
              "\n",
              "    .colab-df-convert {\n",
              "      background-color: #E8F0FE;\n",
              "      border: none;\n",
              "      border-radius: 50%;\n",
              "      cursor: pointer;\n",
              "      display: none;\n",
              "      fill: #1967D2;\n",
              "      height: 32px;\n",
              "      padding: 0 0 0 0;\n",
              "      width: 32px;\n",
              "    }\n",
              "\n",
              "    .colab-df-convert:hover {\n",
              "      background-color: #E2EBFA;\n",
              "      box-shadow: 0px 1px 2px rgba(60, 64, 67, 0.3), 0px 1px 3px 1px rgba(60, 64, 67, 0.15);\n",
              "      fill: #174EA6;\n",
              "    }\n",
              "\n",
              "    [theme=dark] .colab-df-convert {\n",
              "      background-color: #3B4455;\n",
              "      fill: #D2E3FC;\n",
              "    }\n",
              "\n",
              "    [theme=dark] .colab-df-convert:hover {\n",
              "      background-color: #434B5C;\n",
              "      box-shadow: 0px 1px 3px 1px rgba(0, 0, 0, 0.15);\n",
              "      filter: drop-shadow(0px 1px 2px rgba(0, 0, 0, 0.3));\n",
              "      fill: #FFFFFF;\n",
              "    }\n",
              "  </style>\n",
              "\n",
              "      <script>\n",
              "        const buttonEl =\n",
              "          document.querySelector('#df-a07624ad-bcb8-4fe7-8aef-d79d65fc13ca button.colab-df-convert');\n",
              "        buttonEl.style.display =\n",
              "          google.colab.kernel.accessAllowed ? 'block' : 'none';\n",
              "\n",
              "        async function convertToInteractive(key) {\n",
              "          const element = document.querySelector('#df-a07624ad-bcb8-4fe7-8aef-d79d65fc13ca');\n",
              "          const dataTable =\n",
              "            await google.colab.kernel.invokeFunction('convertToInteractive',\n",
              "                                                     [key], {});\n",
              "          if (!dataTable) return;\n",
              "\n",
              "          const docLinkHtml = 'Like what you see? Visit the ' +\n",
              "            '<a target=\"_blank\" href=https://colab.research.google.com/notebooks/data_table.ipynb>data table notebook</a>'\n",
              "            + ' to learn more about interactive tables.';\n",
              "          element.innerHTML = '';\n",
              "          dataTable['output_type'] = 'display_data';\n",
              "          await google.colab.output.renderOutput(dataTable, element);\n",
              "          const docLink = document.createElement('div');\n",
              "          docLink.innerHTML = docLinkHtml;\n",
              "          element.appendChild(docLink);\n",
              "        }\n",
              "      </script>\n",
              "    </div>\n",
              "  </div>\n",
              "  "
            ]
          },
          "metadata": {}
        }
      ]
    },
    {
      "cell_type": "code",
      "source": [
        ""
      ],
      "metadata": {
        "id": "XUQLS-_yEKha"
      },
      "execution_count": null,
      "outputs": []
    }
  ]
}